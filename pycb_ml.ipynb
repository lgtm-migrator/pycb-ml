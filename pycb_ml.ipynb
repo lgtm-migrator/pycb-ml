{
  "cells": [
    {
      "cell_type": "markdown",
      "metadata": {
        "colab_type": "text",
        "id": "view-in-github"
      },
      "source": [
        "<a href=\"https://colab.research.google.com/github/marmig0404/pycb-ml/blob/main/pycb_ml.ipynb\" target=\"_parent\"><img src=\"https://colab.research.google.com/assets/colab-badge.svg\" alt=\"Open In Colab\"/></a>"
      ]
    },
    {
      "cell_type": "markdown",
      "metadata": {},
      "source": [
        "# Train pycbml classification model"
      ]
    },
    {
      "cell_type": "markdown",
      "metadata": {},
      "source": [
        "## Setup\n",
        "\n",
        "Create a directory in your Google Drive with the following structure:\n",
        "```\n",
        "pycb-ml/\n",
        "├─ data.zip\n",
        "│  ├─ train/\n",
        "│  │  ├─ classA/\n",
        "│  │  ├─ classB/\n",
        "│  ├─ test/\n",
        "│  │  ├─ classA/\n",
        "│  │  ├─ classB/\n",
        "├─ models/\n",
        "```\n",
        "Rename and populate class folders in **`train/`** and **`test/`** with images, then zip into **`data.zip`**\n",
        "\n",
        "\n"
      ]
    },
    {
      "cell_type": "markdown",
      "metadata": {},
      "source": [
        "## Link and mount Google Drive"
      ]
    },
    {
      "cell_type": "code",
      "execution_count": null,
      "metadata": {},
      "outputs": [],
      "source": [
        "from os.path import join\n",
        "from google.colab import drive\n",
        "drive.mount('/content/drive')\n",
        "base_path = \"/content/drive/MyDrive/pycb-ml/\""
      ]
    },
    {
      "cell_type": "markdown",
      "metadata": {},
      "source": [
        "## Install pycb-ml module"
      ]
    },
    {
      "cell_type": "code",
      "execution_count": null,
      "metadata": {
        "colab": {
          "base_uri": "https://localhost:8080/"
        },
        "id": "bk7Emz-8Xl6W",
        "outputId": "aacc012d-4a9e-48ce-bf8f-98805c84ca90"
      },
      "outputs": [],
      "source": [
        "!pip install setuptools git+https://github.com/marmig0404/pycb-ml"
      ]
    },
    {
      "cell_type": "markdown",
      "metadata": {},
      "source": [
        "## Define model and training params"
      ]
    },
    {
      "cell_type": "code",
      "execution_count": 2,
      "metadata": {},
      "outputs": [],
      "source": [
        "# model params\n",
        "img_width, img_height = 290, 325\n",
        "classes = [\"A1\", \"A3\", \"B1\", \"B3\", \"C1\", \"C3\", \"None\"]\n",
        "\n",
        "# training params\n",
        "epochs = 5\n",
        "batch_size = 32"
      ]
    },
    {
      "cell_type": "markdown",
      "metadata": {},
      "source": [
        "## Start training\n",
        "This might take some time to start if your data set is large"
      ]
    },
    {
      "cell_type": "code",
      "execution_count": null,
      "metadata": {},
      "outputs": [],
      "source": [
        "from pycbml import main\n",
        "model_name = main(img_width,\n",
        "                  img_height,\n",
        "                  classes,\n",
        "                  epochs,\n",
        "                  batch_size,\n",
        "                  base_path=base_path)"
      ]
    },
    {
      "cell_type": "markdown",
      "metadata": {},
      "source": [
        "## View training accuracy and loss plots"
      ]
    },
    {
      "cell_type": "code",
      "execution_count": null,
      "metadata": {},
      "outputs": [],
      "source": [
        "from IPython.display import HTML, display\n",
        "from os.path import join\n",
        "\n",
        "model_dir = join(base_path, \"models\", model_name)\n",
        "display(HTML(join(model_dir, \"model_accuracy.html\")))\n",
        "display(HTML(join(model_dir, \"model_loss.html\")))"
      ]
    },
    {
      "cell_type": "markdown",
      "metadata": {},
      "source": [
        "## Evaluate and test model"
      ]
    },
    {
      "cell_type": "code",
      "execution_count": null,
      "metadata": {},
      "outputs": [],
      "source": [
        "from pycbml import eval_and_test_model\n",
        "eval_and_test_model(img_width, img_height, base_path, model_name)"
      ]
    }
  ],
  "metadata": {
    "accelerator": "GPU",
    "colab": {
      "authorship_tag": "ABX9TyOd7nvdy8HkVNI6qSC/mRvi",
      "collapsed_sections": [],
      "include_colab_link": true,
      "name": "pycb-ml",
      "provenance": []
    },
    "gpuClass": "standard",
    "kernelspec": {
      "display_name": "Python 3.10.1 ('.venv': venv)",
      "language": "python",
      "name": "python3"
    },
    "language_info": {
      "codemirror_mode": {
        "name": "ipython",
        "version": 3
      },
      "file_extension": ".py",
      "mimetype": "text/x-python",
      "name": "python",
      "nbconvert_exporter": "python",
      "pygments_lexer": "ipython3",
      "version": "3.7.9"
    },
    "vscode": {
      "interpreter": {
        "hash": "d12883133ed0c6de118e7b6bbdb36679578ab41bdf98e0d4005bde0657b6ddcc"
      }
    }
  },
  "nbformat": 4,
  "nbformat_minor": 0
}
