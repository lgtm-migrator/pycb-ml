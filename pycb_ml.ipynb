{
  "nbformat": 4,
  "nbformat_minor": 0,
  "metadata": {
    "colab": {
      "name": "pycb-ml",
      "provenance": [],
      "collapsed_sections": [],
      "authorship_tag": "ABX9TyOd7nvdy8HkVNI6qSC/mRvi",
      "include_colab_link": true
    },
    "kernelspec": {
      "name": "python3",
      "display_name": "Python 3"
    },
    "language_info": {
      "name": "python"
    },
    "accelerator": "GPU",
    "gpuClass": "standard"
  },
  "cells": [
    {
      "cell_type": "markdown",
      "metadata": {
        "id": "view-in-github",
        "colab_type": "text"
      },
      "source": [
        "<a href=\"https://colab.research.google.com/github/marmig0404/pycb-ml/blob/main/pycb_ml.ipynb\" target=\"_parent\"><img src=\"https://colab.research.google.com/assets/colab-badge.svg\" alt=\"Open In Colab\"/></a>"
      ]
    },
    {
      "cell_type": "code",
      "execution_count": 1,
      "metadata": {
        "colab": {
          "base_uri": "https://localhost:8080/"
        },
        "id": "lmV_q2arUwVt",
        "outputId": "0571f7d9-f075-47a4-eab8-40a627615887"
      },
      "outputs": [
        {
          "output_type": "stream",
          "name": "stdout",
          "text": [
            "Cloning into 'pycb-ml'...\n",
            "remote: Enumerating objects: 3392, done.\u001b[K\n",
            "remote: Counting objects: 100% (39/39), done.\u001b[K\n",
            "remote: Compressing objects: 100% (26/26), done.\u001b[K\n",
            "remote: Total 3392 (delta 19), reused 30 (delta 13), pack-reused 3353\u001b[K\n",
            "Receiving objects: 100% (3392/3392), 3.70 MiB | 7.54 MiB/s, done.\n",
            "Resolving deltas: 100% (61/61), done.\n"
          ]
        }
      ],
      "source": [
        "!rm -r pycb-ml\n",
        "!git clone https://github.com/marmig0404/pycb-ml"
      ]
    },
    {
      "cell_type": "code",
      "source": [
        "from google.colab import drive\n",
        "drive.mount('/content/drive')\n",
        "!cp -r /content/drive/MyDrive/Programming/Python/pycb-ml/data/ pycb-ml/"
      ],
      "metadata": {
        "colab": {
          "base_uri": "https://localhost:8080/"
        },
        "id": "gSvdgomgaLKH",
        "outputId": "e3186a85-b4ae-4be5-9d64-d1909bba037c"
      },
      "execution_count": 2,
      "outputs": [
        {
          "output_type": "stream",
          "name": "stdout",
          "text": [
            "Drive already mounted at /content/drive; to attempt to forcibly remount, call drive.mount(\"/content/drive\", force_remount=True).\n"
          ]
        }
      ]
    },
    {
      "cell_type": "code",
      "source": [
        "!python3 pycb-ml/train_model.py"
      ],
      "metadata": {
        "colab": {
          "base_uri": "https://localhost:8080/"
        },
        "id": "bk7Emz-8Xl6W",
        "outputId": "aacc012d-4a9e-48ce-bf8f-98805c84ca90"
      },
      "execution_count": null,
      "outputs": [
        {
          "output_type": "stream",
          "name": "stdout",
          "text": [
            "Input data stats:\n",
            "A1 : 313\n",
            "A3 : 213\n",
            "B1 : 901\n",
            "B3 : 660\n",
            "C1 : 134\n",
            "C3 : 123\n",
            "None : 5741\n",
            "Normalized training data stats:\n",
            "A1 : 251\n",
            "A3 : 171\n",
            "B1 : 721\n",
            "B3 : 528\n",
            "C1 : 108\n",
            "C3 : 99\n",
            "None : 4593\n",
            "Normalized validation data stats:\n",
            "A1 : 62\n",
            "A3 : 42\n",
            "B1 : 180\n",
            "B3 : 132\n",
            "C1 : 26\n",
            "C3 : 24\n",
            "None : 1148\n",
            "2022-06-14 00:08:15.926699: W tensorflow/core/common_runtime/gpu/gpu_bfc_allocator.cc:39] Overriding allow_growth setting because the TF_FORCE_GPU_ALLOW_GROWTH environment variable is set. Original config value was 0.\n",
            "Found 6471 images belonging to 7 classes.\n",
            "Found 1614 images belonging to 7 classes.\n",
            "Epoch 1/7\n",
            "269/269 [==============================] - 213s 721ms/step - loss: 11.8942 - accuracy: 0.7009 - val_loss: 0.6073 - val_accuracy: 0.7923\n",
            "Epoch 2/7\n",
            "269/269 [==============================] - 192s 715ms/step - loss: 0.4895 - accuracy: 0.8354 - val_loss: 0.3117 - val_accuracy: 0.8887\n",
            "Epoch 3/7\n",
            "197/269 [====================>.........] - ETA: 46s - loss: 0.3392 - accuracy: 0.8754"
          ]
        }
      ]
    },
    {
      "cell_type": "code",
      "source": [
        "!cp -r pycb-ml/model /content/drive/MyDrive/Programming/Python/pycb-ml/"
      ],
      "metadata": {
        "id": "UaeOQB52i1Ov"
      },
      "execution_count": null,
      "outputs": []
    }
  ]
}