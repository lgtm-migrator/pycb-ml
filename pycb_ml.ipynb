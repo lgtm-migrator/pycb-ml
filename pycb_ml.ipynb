{
  "cells": [
    {
      "cell_type": "markdown",
      "metadata": {
        "colab_type": "text",
        "id": "view-in-github"
      },
      "source": [
        "<a href=\"https://colab.research.google.com/github/marmig0404/pycb-ml/blob/main/pycb_ml.ipynb\" target=\"_parent\"><img src=\"https://colab.research.google.com/assets/colab-badge.svg\" alt=\"Open In Colab\"/></a>"
      ]
    },
    {
      "cell_type": "markdown",
      "metadata": {},
      "source": [
        "# Train pycbml classification model"
      ]
    },
    {
      "cell_type": "markdown",
      "metadata": {},
      "source": [
        "## Link and mount Google Drive"
      ]
    },
    {
      "cell_type": "code",
      "execution_count": null,
      "metadata": {},
      "outputs": [],
      "source": [
        "from google.colab import drive\n",
        "drive.mount('/content/drive')"
      ]
    },
    {
      "cell_type": "markdown",
      "metadata": {},
      "source": [
        "## Install pycb-ml module"
      ]
    },
    {
      "cell_type": "code",
      "execution_count": null,
      "metadata": {
        "colab": {
          "base_uri": "https://localhost:8080/"
        },
        "id": "bk7Emz-8Xl6W",
        "outputId": "aacc012d-4a9e-48ce-bf8f-98805c84ca90"
      },
      "outputs": [],
      "source": [
        "!python3 -m pip install git+https://github.com/marmig0404/pycb-ml"
      ]
    },
    {
      "cell_type": "markdown",
      "metadata": {},
      "source": [
        "## Define user params"
      ]
    },
    {
      "cell_type": "code",
      "execution_count": 6,
      "metadata": {},
      "outputs": [],
      "source": [
        "# image and class params\n",
        "img_width, img_height = 290, 325\n",
        "classes = [\"A1\", \"A3\", \"B1\", \"B3\", \"C1\", \"C3\", \"None\"]\n",
        "\n",
        "# define working directory\n",
        "base_path = \"/content/drive/MyDrive/Programming/Python/pycb-ml/\"\n",
        "\n",
        "# training params\n",
        "epochs = 5\n",
        "batch_size = 32"
      ]
    },
    {
      "cell_type": "markdown",
      "metadata": {},
      "source": [
        "## Start training"
      ]
    },
    {
      "cell_type": "code",
      "execution_count": null,
      "metadata": {},
      "outputs": [],
      "source": [
        "from pycbml import main\n",
        "main(img_width,\n",
        "     img_height,\n",
        "     classes,\n",
        "     epochs,\n",
        "     batch_size,\n",
        "     base_path=base_path)"
      ]
    },
    {
      "cell_type": "markdown",
      "metadata": {},
      "source": [
        "## View training accuracy and loss plots"
      ]
    },
    {
      "cell_type": "code",
      "execution_count": null,
      "metadata": {},
      "outputs": [],
      "source": [
        "from glob import glob\n",
        "from IPython.display import HTML, display\n",
        "from os.path import join, dirname\n",
        "\n",
        "for file in sorted(glob(join(base_path,\"models/*/*.html\")),key=lambda x:dirname(x))[-2:]:\n",
        "  display(HTML(filename=file))"
      ]
    }
  ],
  "metadata": {
    "accelerator": "GPU",
    "colab": {
      "authorship_tag": "ABX9TyOd7nvdy8HkVNI6qSC/mRvi",
      "collapsed_sections": [],
      "include_colab_link": true,
      "name": "pycb-ml",
      "provenance": []
    },
    "gpuClass": "standard",
    "kernelspec": {
      "display_name": "Python 3.10.1 ('.venv': venv)",
      "language": "python",
      "name": "python3"
    },
    "language_info": {
      "codemirror_mode": {
        "name": "ipython",
        "version": 3
      },
      "file_extension": ".py",
      "mimetype": "text/x-python",
      "name": "python",
      "nbconvert_exporter": "python",
      "pygments_lexer": "ipython3",
      "version": "3.7.9"
    },
    "vscode": {
      "interpreter": {
        "hash": "d12883133ed0c6de118e7b6bbdb36679578ab41bdf98e0d4005bde0657b6ddcc"
      }
    }
  },
  "nbformat": 4,
  "nbformat_minor": 0
}
