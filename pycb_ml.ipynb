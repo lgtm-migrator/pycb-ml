{
  "cells": [
    {
      "cell_type": "markdown",
      "metadata": {
        "colab_type": "text",
        "id": "view-in-github"
      },
      "source": [
        "<a href=\"https://colab.research.google.com/github/marmig0404/pycb-ml/blob/main/pycb_ml.ipynb\" target=\"_parent\"><img src=\"https://colab.research.google.com/assets/colab-badge.svg\" alt=\"Open In Colab\"/></a>"
      ]
    },
    {
      "cell_type": "code",
      "execution_count": null,
      "metadata": {},
      "outputs": [],
      "source": [
        "from google.colab import drive\n",
        "drive.mount('/content/drive')"
      ]
    },
    {
      "cell_type": "code",
      "execution_count": null,
      "metadata": {
        "colab": {
          "base_uri": "https://localhost:8080/"
        },
        "id": "bk7Emz-8Xl6W",
        "outputId": "aacc012d-4a9e-48ce-bf8f-98805c84ca90"
      },
      "outputs": [
        {
          "name": "stdout",
          "output_type": "stream",
          "text": [
            "Input data stats:\n",
            "A1 : 313\n",
            "A3 : 213\n",
            "B1 : 901\n",
            "B3 : 660\n",
            "C1 : 134\n",
            "C3 : 123\n",
            "None : 5741\n",
            "Normalized training data stats:\n",
            "A1 : 251\n",
            "A3 : 171\n",
            "B1 : 721\n",
            "B3 : 528\n",
            "C1 : 108\n",
            "C3 : 99\n",
            "None : 4593\n",
            "Normalized validation data stats:\n",
            "A1 : 62\n",
            "A3 : 42\n",
            "B1 : 180\n",
            "B3 : 132\n",
            "C1 : 26\n",
            "C3 : 24\n",
            "None : 1148\n",
            "2022-06-14 00:08:15.926699: W tensorflow/core/common_runtime/gpu/gpu_bfc_allocator.cc:39] Overriding allow_growth setting because the TF_FORCE_GPU_ALLOW_GROWTH environment variable is set. Original config value was 0.\n",
            "Found 6471 images belonging to 7 classes.\n",
            "Found 1614 images belonging to 7 classes.\n",
            "Epoch 1/7\n",
            "269/269 [==============================] - 213s 721ms/step - loss: 11.8942 - accuracy: 0.7009 - val_loss: 0.6073 - val_accuracy: 0.7923\n",
            "Epoch 2/7\n",
            "269/269 [==============================] - 192s 715ms/step - loss: 0.4895 - accuracy: 0.8354 - val_loss: 0.3117 - val_accuracy: 0.8887\n",
            "Epoch 3/7\n",
            "197/269 [====================>.........] - ETA: 46s - loss: 0.3392 - accuracy: 0.8754"
          ]
        }
      ],
      "source": [
        "!python3 -m pip install git+https://github.com/marmig0404/pycb-ml\n",
        "from pycbml import main\n",
        "# image and class params\n",
        "img_width, img_height = 290, 325\n",
        "classes = [\"A1\", \"A3\", \"B1\", \"B3\", \"C1\", \"C3\", \"None\"]\n",
        "\n",
        "# define working directory\n",
        "base_path = \"/content/drive/MyDrive/Programming/Python/pycb-ml/\"\n",
        "\n",
        "# training params\n",
        "epochs = 30\n",
        "batch_size = 32\n",
        "\n",
        "main(img_width,\n",
        "     img_height,\n",
        "     classes,\n",
        "     epochs,\n",
        "     batch_size,\n",
        "     base_path=base_path)"
      ]
    },
    {
      "cell_type": "code",
      "execution_count": null,
      "metadata": {},
      "outputs": [],
      "source": [
        "from glob import glob\n",
        "from IPython.display import HTML, display\n",
        "import os\n",
        "\n",
        "for file in glob(os.path.join(base_path,\"/models/*/*.html\"))[:2]:\n",
        "  display(HTML(filename=file))"
      ]
    }
  ],
  "metadata": {
    "accelerator": "GPU",
    "colab": {
      "authorship_tag": "ABX9TyOd7nvdy8HkVNI6qSC/mRvi",
      "collapsed_sections": [],
      "include_colab_link": true,
      "name": "pycb-ml",
      "provenance": []
    },
    "gpuClass": "standard",
    "kernelspec": {
      "display_name": "Python 3",
      "name": "python3"
    },
    "language_info": {
      "name": "python"
    }
  },
  "nbformat": 4,
  "nbformat_minor": 0
}
